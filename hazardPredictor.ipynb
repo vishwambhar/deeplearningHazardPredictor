{
 "cells": [
  {
   "cell_type": "code",
   "execution_count": 25,
   "metadata": {
    "collapsed": false
   },
   "outputs": [],
   "source": [
    "import pandas as pd\n",
    "from sklearn.model_selection import train_test_split\n",
    "from sklearn import preprocessing\n",
    "import numpy as np\n",
    "import os\n",
    "import re\n",
    "import heapq\n",
    "import sys\n",
    "\n",
    "DYNACARDS_PATH = \"datasets\"\n",
    "\n",
    "def load_dynacards_data(dynacards_path=DYNACARDS_PATH):\n",
    "    # Load dataset from csv file.\n",
    "    csv_path = os.path.join(dynacards_path, \"tagged_dynacards_good.csv\") \n",
    "    return pd.read_csv(csv_path)\n",
    "\n",
    "def tokens(string):\n",
    "    result = []\n",
    "    for t in re.split('[\\[\\]\\s]\\s*', str(string)):\n",
    "        if(t):\n",
    "            result.append(float(t))\n",
    "    return result\n",
    "\n",
    "def get_min_max(data):  \n",
    "    min_value, max_value = sys.float_info.max, sys.float_info.min\n",
    "    for e in data:\n",
    "        for m in tokens(e):\n",
    "            min_value = min(m, min_value)\n",
    "            max_value = max(m, max_value)               \n",
    "    return min_value, max_value\n",
    "\n",
    "\n",
    "def feature_scaling(nmin, nmax, arr):\n",
    "    if (nmax == nmin):\n",
    "        return None\n",
    "    return [(e - nmin)/(nmax - nmin) for e in arr ]\n",
    "\n",
    "\n",
    "def scale(data, df, col_name):\n",
    "    min_value, max_value = get_min_max(data)\n",
    "    result = []\n",
    "    for e in data:\n",
    "        result.append(feature_scaling(min_value, max_value, tokens(e)))\n",
    "    df[col_name] = result\n",
    "\n",
    "    \n",
    "df = load_dynacards_data()\n",
    "w_df = pd.DataFrame()\n",
    "train_set, test_set = train_test_split(df, test_size=0.2, random_state=42)\n",
    "scale(train_set['load'], w_df, 'load')\n",
    "scale(train_set['position'], w_df, 'position')\n",
    "w_df.to_csv('output.csv', index=False)\n",
    "    "
   ]
  },
  {
   "cell_type": "code",
   "execution_count": 1,
   "metadata": {
    "collapsed": false
   },
   "outputs": [],
   "source": []
  },
  {
   "cell_type": "code",
   "execution_count": null,
   "metadata": {
    "collapsed": true
   },
   "outputs": [],
   "source": []
  }
 ],
 "metadata": {
  "anaconda-cloud": {},
  "kernelspec": {
   "display_name": "Python [conda env:IntroToTensorFlow]",
   "language": "python",
   "name": "conda-env-IntroToTensorFlow-py"
  },
  "language_info": {
   "codemirror_mode": {
    "name": "ipython",
    "version": 3
   },
   "file_extension": ".py",
   "mimetype": "text/x-python",
   "name": "python",
   "nbconvert_exporter": "python",
   "pygments_lexer": "ipython3",
   "version": "3.5.2"
  }
 },
 "nbformat": 4,
 "nbformat_minor": 1
}
